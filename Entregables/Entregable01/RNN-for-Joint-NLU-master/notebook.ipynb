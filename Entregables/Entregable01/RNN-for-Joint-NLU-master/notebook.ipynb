{
  "nbformat": 4,
  "nbformat_minor": 0,
  "metadata": {
    "kernelspec": {
      "display_name": "Python 3",
      "language": "python",
      "name": "python3"
    },
    "language_info": {
      "codemirror_mode": {
        "name": "ipython",
        "version": 3
      },
      "file_extension": ".py",
      "mimetype": "text/x-python",
      "name": "python",
      "nbconvert_exporter": "python",
      "pygments_lexer": "ipython3",
      "version": "3.5.2"
    },
    "colab": {
      "name": "notebook.ipynb",
      "provenance": []
    },
    "accelerator": "GPU"
  },
  "cells": [
    {
      "cell_type": "markdown",
      "metadata": {
        "id": "jXH-dFxty8Hc"
      },
      "source": [
        "# Ejecución de modelo base\n",
        "\n",
        "En este notebook se ha seleccionado como base el trabajo presentado por Bing Liu y Ian Lane denominado Attention-Based Recurrent Neural Network Models for Joint Intent Detection\n",
        "and Slot Filling: https://arxiv.org/pdf/1609.01454.pdf"
      ]
    },
    {
      "cell_type": "markdown",
      "metadata": {
        "id": "Aeun0YXizAJX"
      },
      "source": [
        "## 1. Librerías a utilizar"
      ]
    },
    {
      "cell_type": "code",
      "metadata": {
        "id": "jzeTuLVNV0Nv"
      },
      "source": [
        "import json\n",
        "import torch\n",
        "import torch.nn as nn\n",
        "from torch.autograd import Variable\n",
        "import torch.optim as optim\n",
        "import torch.nn.functional as F\n",
        "import matplotlib.pyplot as plt\n",
        "import random\n",
        "import numpy as np\n",
        "from collections import Counter\n",
        "import pickle\n",
        "%matplotlib inline"
      ],
      "execution_count": 1,
      "outputs": []
    },
    {
      "cell_type": "code",
      "metadata": {
        "collapsed": true,
        "id": "kmLtfYvSV0N0",
        "colab": {
          "base_uri": "https://localhost:8080/"
        },
        "outputId": "06284cea-43cd-47f3-ea55-2a8c0577ad20"
      },
      "source": [
        "# Se verifica si es que el soporte de CUDA está disponible (para utilizar la GPU\n",
        "# en el cómputo de tensores)\n",
        "USE_CUDA = torch.cuda.is_available()\n",
        "USE_CUDA"
      ],
      "execution_count": 2,
      "outputs": [
        {
          "output_type": "execute_result",
          "data": {
            "text/plain": [
              "True"
            ]
          },
          "metadata": {},
          "execution_count": 2
        }
      ]
    },
    {
      "cell_type": "code",
      "metadata": {
        "collapsed": true,
        "id": "EW6nzfcsV0N1"
      },
      "source": [
        "# Se define función para convertir la sequencia de texto a índices en formato de\n",
        "# tensor con soporte de CUDA\n",
        "def prepare_sequence(seq, to_ix):\n",
        "  # Crea una lista a partir de una secuencia. Para cada palabra de la secuencia \n",
        "  # asigna un índice de acuerdo al diccionario \"to_ix\", ya sea que pertenece o \n",
        "  # no (token desconocido <UNK>)\n",
        "  idxs = list(map(lambda w: to_ix[w] if w in to_ix.keys() else to_ix[\"<UNK>\"], seq))\n",
        "  # Convierte la lista en tensor con soporte de CUDA (si está disponible)\n",
        "  tensor = Variable(torch.LongTensor(idxs)).cuda() if USE_CUDA else Variable(torch.LongTensor(idxs))\n",
        "  return tensor\n",
        "\n",
        "# Se define función para obtener los elementos dentro de las listas de una tupla\n",
        "flatten = lambda l: [item for sublist in l for item in sublist]"
      ],
      "execution_count": 3,
      "outputs": []
    },
    {
      "cell_type": "markdown",
      "metadata": {
        "id": "w7eJEYcbV0N2"
      },
      "source": [
        "## 2. Carga de los datos y preprocesamiento"
      ]
    },
    {
      "cell_type": "markdown",
      "metadata": {
        "id": "cwZyaaxQzj6a"
      },
      "source": [
        "El conjunto de entrenamiento se obtiene a partir del siguiente repositorio: https://github.com/yvchen/JointSLU/tree/master/data"
      ]
    },
    {
      "cell_type": "code",
      "metadata": {
        "id": "idnTabKO1JIZ",
        "colab": {
          "base_uri": "https://localhost:8080/"
        },
        "outputId": "98fff1d0-ada8-4baf-cd62-d3228f40231c"
      },
      "source": [
        "# Obtenemos únicamente el archivo que se utilizará\n",
        "!curl --remote-name -H --location https://raw.githubusercontent.com/yvchen/JointSLU/master/data/atis-2.train.w-intent.iob"
      ],
      "execution_count": 4,
      "outputs": [
        {
          "output_type": "stream",
          "name": "stdout",
          "text": [
            "  % Total    % Received % Xferd  Average Speed   Time    Time     Time  Current\n",
            "                                 Dload  Upload   Total   Spent    Left  Speed\n",
            "\r  0     0    0     0    0     0      0      0 --:--:-- --:--:-- --:--:--     0\r100  789k  100  789k    0     0  3476k      0 --:--:-- --:--:-- --:--:-- 3476k\n"
          ]
        }
      ]
    },
    {
      "cell_type": "code",
      "metadata": {
        "collapsed": true,
        "id": "gOg6ptxIV0N2"
      },
      "source": [
        "# Cuando se ejecuta en un entorno local indicar correctamente el path general \n",
        "# del proyecto:\n",
        "# path = r'G:\\Mi unidad\\CLASES\\PUCP\\2.Clases\\Ciclo-II-DL\\Proyecto-DL\\JoinIntentDetectionSlotFilling\\Entregables\\Entregable01\\RNN-for-Joint-NLU-master'\n",
        "# train = open(path+\"\\\\\"+\"\\data\\\\atis-2.train.w-intent.iob\",\"r\").readlines()\n",
        "\n",
        "# Se lee la información del archivo con el corpus de ATIS\n",
        "train = open('atis-2.train.w-intent.iob', 'r').readlines()\n",
        "# Se eliminan los saltos de línea al final de la oración\n",
        "train = [t[:-1] for t in train]\n",
        "# Se obtiene la secuencia de entrada (oraciones en inglés), la secuencia de \n",
        "# salida (secuencia de slots) y la intención relacionada a la secuencia\n",
        "train = [[t.split('\\t')[0].split(' '), t.split('\\t')[1].split(' ')[:-1], t.split('\\t')[1].split(' ')[-1]] for t in train]\n",
        "# Se retiran los tokens de inicio y fin en la secuencia de entrada, el token de \n",
        "# inicio en la secuencia de salida (ya que se encuentra desfasada una posición \n",
        "# respecto a la entrada)\n",
        "train = [[t[0][1:-1],t[1][1:],t[2]] for t in train]"
      ],
      "execution_count": 5,
      "outputs": []
    },
    {
      "cell_type": "code",
      "metadata": {
        "pycharm": {
          "name": "#%%\n"
        },
        "id": "rqx2iX5By0zz",
        "colab": {
          "base_uri": "https://localhost:8080/"
        },
        "outputId": "76eb6208-8a40-4548-a80c-f81442e36bef"
      },
      "source": [
        "train[0]"
      ],
      "execution_count": 6,
      "outputs": [
        {
          "output_type": "execute_result",
          "data": {
            "text/plain": [
              "[['i',\n",
              "  'want',\n",
              "  'to',\n",
              "  'fly',\n",
              "  'from',\n",
              "  'baltimore',\n",
              "  'to',\n",
              "  'dallas',\n",
              "  'round',\n",
              "  'trip'],\n",
              " ['O',\n",
              "  'O',\n",
              "  'O',\n",
              "  'O',\n",
              "  'O',\n",
              "  'B-fromloc.city_name',\n",
              "  'O',\n",
              "  'B-toloc.city_name',\n",
              "  'B-round_trip',\n",
              "  'I-round_trip'],\n",
              " 'atis_flight']"
            ]
          },
          "metadata": {},
          "execution_count": 6
        }
      ]
    },
    {
      "cell_type": "code",
      "metadata": {
        "collapsed": true,
        "id": "JrJuooGFV0N3"
      },
      "source": [
        "# Se obtiene las tuplas de las secuencias de entrada, salida y las intenciones \n",
        "# por separado\n",
        "seq_in, seq_out, intent = list(zip(*train))"
      ],
      "execution_count": 7,
      "outputs": []
    },
    {
      "cell_type": "code",
      "metadata": {
        "collapsed": true,
        "id": "vbbrItN3V0N3"
      },
      "source": [
        "# Se conforma el vocabulario de las palabras, las etiquetas de los slots y las \n",
        "# etiquetas de las intenciones\n",
        "vocab = set(flatten(seq_in))\n",
        "slot_tag = set(flatten(seq_out))\n",
        "intent_tag = set(intent)"
      ],
      "execution_count": 8,
      "outputs": []
    },
    {
      "cell_type": "code",
      "metadata": {
        "collapsed": true,
        "id": "o4BhYgIcV0N4"
      },
      "source": [
        "# Se establece el tamaño máximo de la secuencia\n",
        "LENGTH = 50"
      ],
      "execution_count": 9,
      "outputs": []
    },
    {
      "cell_type": "code",
      "metadata": {
        "collapsed": true,
        "id": "WNJfftp6V0N4"
      },
      "source": [
        "# Se definen listas para almacenar las secuencias de entrada y salida luego del\n",
        "# preprocesamiento para añadir tokens de fin de secuencia y para hacer padding\n",
        "sin = []\n",
        "sout = []"
      ],
      "execution_count": 10,
      "outputs": []
    },
    {
      "cell_type": "code",
      "metadata": {
        "collapsed": true,
        "id": "NNn_dJ5bV0N4"
      },
      "source": [
        "# Se añade nuevamente el token de fin de secuencia (<EOS>) y se hace padding\n",
        "# hasta completar el tamaño máximo de secuencia\n",
        "for i in range(len(seq_in)):\n",
        "  # Secuencia de entrada\n",
        "  temp = seq_in[i]\n",
        "  if len(temp)<LENGTH:\n",
        "    # Añade el token de fin de secuencia\n",
        "    temp.append('<EOS>')\n",
        "    while len(temp)<LENGTH:\n",
        "      # Completa con token de padding hasta completar tamaño máximo de secuencia\n",
        "      temp.append('<PAD>')\n",
        "  else:\n",
        "    # Trunca la secuencia en el tamaño máximo\n",
        "    temp = temp[:LENGTH]\n",
        "    # Reemplaza el último elemento por el token de fin de secuencia\n",
        "    temp[-1]='<EOS>'\n",
        "  sin.append(temp)\n",
        "  \n",
        "  # Secuencia de salida\n",
        "  temp = seq_out[i]\n",
        "  if len(temp)<LENGTH:\n",
        "    while len(temp)<LENGTH:\n",
        "      # Completa con token de padding hasta completar tamaño máximo de secuencia\n",
        "      temp.append('<PAD>')\n",
        "  else:\n",
        "    # Trunca la secuencia en el tamaño máximo\n",
        "    temp = temp[:LENGTH]\n",
        "    # Reemplaza el último elemento por el token de fin de secuencia\n",
        "    temp[-1]='<EOS>'\n",
        "  sout.append(temp)"
      ],
      "execution_count": 11,
      "outputs": []
    },
    {
      "cell_type": "code",
      "metadata": {
        "collapsed": true,
        "id": "UcaKGEd6V0N5"
      },
      "source": [
        "# Se define un diccionario para mapear las palabras a índices\n",
        "word2index = {'<PAD>': 0, '<UNK>':1, '<SOS>':2, '<EOS>':3}\n",
        "for token in vocab:\n",
        "  if token not in word2index.keys():\n",
        "    word2index[token]=len(word2index)\n",
        "\n",
        "# Se invierte el diccionario (para mapear los índices a palabras)\n",
        "index2word = {v:k for k,v in word2index.items()}\n",
        "\n",
        "# Se define un diccionario para mapear las etiquetas de slots a índices\n",
        "tag2index = {'<PAD>' : 0}\n",
        "for tag in slot_tag:\n",
        "  if tag not in tag2index.keys():\n",
        "    tag2index[tag] = len(tag2index)\n",
        "\n",
        "# Se invierte el diccionario (para mapear los índices a etiquetas de palabras)\n",
        "index2tag = {v:k for k,v in tag2index.items()}\n",
        "\n",
        "# Se define un diccionario para mapear las etiquetas de intenciones a índices\n",
        "intent2index={}\n",
        "for ii in intent_tag:\n",
        "  if ii not in intent2index.keys():\n",
        "    intent2index[ii] = len(intent2index)\n",
        "\n",
        "# Se invierte el diccionario (para mapear los índices a etiquetas de intenciones)\n",
        "index2intent = {v:k for k,v in intent2index.items()}"
      ],
      "execution_count": 12,
      "outputs": []
    },
    {
      "cell_type": "code",
      "metadata": {
        "collapsed": true,
        "id": "uxvkvDXTV0N5"
      },
      "source": [
        "# Se reconstruye una lista general con las listas de secuencias de entrada, \n",
        "# salida y las intenciones\n",
        "train = list(zip(sin, sout, intent))"
      ],
      "execution_count": 13,
      "outputs": []
    },
    {
      "cell_type": "code",
      "metadata": {
        "id": "qLA8jfqMV0N5",
        "colab": {
          "base_uri": "https://localhost:8080/",
          "height": 35
        },
        "outputId": "caa0a734-cc29-42b6-cc82-638b1507fcd2"
      },
      "source": [
        "train[0][2]"
      ],
      "execution_count": 14,
      "outputs": [
        {
          "output_type": "execute_result",
          "data": {
            "application/vnd.google.colaboratory.intrinsic+json": {
              "type": "string"
            },
            "text/plain": [
              "'atis_flight'"
            ]
          },
          "metadata": {},
          "execution_count": 14
        }
      ]
    },
    {
      "cell_type": "code",
      "metadata": {
        "collapsed": true,
        "id": "aehAHe-qV0N6"
      },
      "source": [
        "# Se define una lista vacía para almacenar los tensores con soporte de CUDA \n",
        "# correspondientes a las secuencias de entrada, salida y las intenciones\n",
        "train_data=[]\n",
        "\n",
        "for tr in train:\n",
        "  # Se usa la función \"prepare_sequence\" para obtener el tensor de entrada con\n",
        "  # soporte de CUDA\n",
        "  temp = prepare_sequence(tr[0], word2index)\n",
        "  temp = temp.view(1,-1)\n",
        "  # Se usa la función \"prepare_sequence\" para obtener el tensor de salida con\n",
        "  # soporte de CUDA\n",
        "  temp2 = prepare_sequence(tr[1], tag2index)\n",
        "  temp2 = temp2.view(1,-1)\n",
        "  # Se usa la función \"prepare_sequence\" para obtener el tensor de intención \n",
        "  # con soporte de CUDA\n",
        "  temp3 = Variable(torch.LongTensor([intent2index[tr[2]]])).cuda() if USE_CUDA else Variable(torch.LongTensor([intent2index[tr[2]]]))\n",
        "  # Almacena los tensores en una lista\n",
        "  train_data.append((temp, temp2, temp3))"
      ],
      "execution_count": 15,
      "outputs": []
    },
    {
      "cell_type": "code",
      "metadata": {
        "collapsed": true,
        "id": "C_A1ymkFV0N6"
      },
      "source": [
        "# Se define una función para producir batches aleatorios del conjunto de \n",
        "# entrenamiento \n",
        "def getBatch(batch_size, train_data):\n",
        "  random.shuffle(train_data)\n",
        "  sindex = 0\n",
        "  eindex = batch_size\n",
        "  while eindex < len(train_data):\n",
        "    batch = train_data[sindex:eindex]\n",
        "    temp = eindex\n",
        "    eindex = eindex + batch_size\n",
        "    sindex = temp\n",
        "    \n",
        "    yield batch"
      ],
      "execution_count": 16,
      "outputs": []
    },
    {
      "cell_type": "markdown",
      "metadata": {
        "id": "OzNWzwPlV0N6"
      },
      "source": [
        "## 3. Definición del Modelo\n",
        "\n",
        "El modelo a trabajar se basa en una Red Neuronal Recurrente con arquitectura Secuencia a Secuencia o seq2seq. Esta consta de un codificador o encoder que recibe la secuencia de entrada, y de un decodificador o decoder que obtiene la secuencia de salida y la intención correspondiente."
      ]
    },
    {
      "cell_type": "code",
      "metadata": {
        "collapsed": true,
        "id": "OJru6PCDV0N6"
      },
      "source": [
        "class Encoder(nn.Module):\n",
        "  # Función de inicialización\n",
        "  def __init__(self, input_size, embedding_size, hidden_size, batch_size=16, n_layers=1):\n",
        "    super(Encoder, self).__init__()\n",
        "    # Se inicializa el tamaño de la secuencia de entrada, el tamaño del vector \n",
        "    # de embedding, el tamaño del vector de estado oculto, el número de capas y \n",
        "    # el tamaño del batch\n",
        "    self.input_size = input_size\n",
        "    self.embedding_size = embedding_size\n",
        "    self.hidden_size = hidden_size\n",
        "    self.n_layers = n_layers\n",
        "    self.batch_size=batch_size\n",
        "    # Se inicializa la capa de embedding y la capa bidireccional LSTM\n",
        "    self.embedding = nn.Embedding(input_size, embedding_size)\n",
        "    self.lstm = nn.LSTM(embedding_size, hidden_size, n_layers, batch_first=True, bidirectional=True)\n",
        "  \n",
        "  # Función para inicializar los pesos\n",
        "  def init_weights(self):\n",
        "    self.embedding.weight.data.uniform_(-0.1, 0.1)\n",
        "    # self.lstm.weight.data.\n",
        "  \n",
        "  # Función para inicializar con zeros los vectores de estado oculto y de contexto\n",
        "  def init_hidden(self, input):\n",
        "    hidden = Variable(torch.zeros(self.n_layers*2, input.size(0), self.hidden_size)).cuda() if USE_CUDA else Variable(torch.zeros(self.n_layers*2, input.size(0), self.hidden_size))\n",
        "    context = Variable(torch.zeros(self.n_layers*2, input.size(0), self.hidden_size)).cuda() if USE_CUDA else Variable(torch.zeros(self.n_layers*2, input.size(0), self.hidden_size))\n",
        "    return (hidden, context)\n",
        "  \n",
        "  # Función para realizar el cómputo hacia adelante en el codificador\n",
        "  def forward(self, input, input_masking):\n",
        "    \"\"\"\n",
        "    input : Tensor de entrada\n",
        "    input_masking : Tensor de entrada enmascarado para los tokens padding\n",
        "    \"\"\"\n",
        "    # Se inicializan los vectores de estado oculto y de contexto\n",
        "    self.hidden = self.init_hidden(input)\n",
        "    # La secuencia de entrada pasa a través de la capa de embedding y se \n",
        "    # transforma en vector\n",
        "    embedded = self.embedding(input)\n",
        "    # Se calcula la salida y los vectores de estado oculto y de contexto a \n",
        "    # partir del vector de embedding de la secuencia de entrada\n",
        "    output, self.hidden = self.lstm(embedded, self.hidden)\n",
        "    # Vector de salida con el tamaño real de la secuencia (sin padding)\n",
        "    real_context=[]\n",
        "    for i, o in enumerate(output):\n",
        "      real_length = input_masking[i].data.tolist().count(0)\n",
        "      real_context.append(o[real_length-1])\n",
        "            \n",
        "    return output, torch.cat(real_context).view(input.size(0),-1).unsqueeze(1)\n"
      ],
      "execution_count": 17,
      "outputs": []
    },
    {
      "cell_type": "code",
      "metadata": {
        "id": "HPlWktH7V0N7"
      },
      "source": [
        "class Decoder(nn.Module):\n",
        "  # Función de inicialización\n",
        "  def __init__(self,slot_size,intent_size,embedding_size,hidden_size,batch_size=16,n_layers=1,dropout_p=0.1):\n",
        "    super(Decoder, self).__init__()\n",
        "    # Se inicializa el tamaño del vector de estado oculto, el número de slots, \n",
        "    # el número de intenciones, el número de capas, el ratio de dropout, el \n",
        "    # tamaño del vector de embedding y el tamaño del batch\n",
        "    self.hidden_size = hidden_size\n",
        "    self.slot_size = slot_size\n",
        "    self.intent_size = intent_size\n",
        "    self.n_layers = n_layers\n",
        "    self.dropout_p = dropout_p\n",
        "    self.embedding_size = embedding_size\n",
        "    self.batch_size = batch_size\n",
        "    # Se define la capa de embedding\n",
        "    self.embedding = nn.Embedding(self.slot_size, self.embedding_size)\n",
        "\n",
        "    # self.dropout = nn.Dropout(self.dropout_p)\n",
        "\n",
        "    # Se define la capa LSTM del decoder, la capa de Atención y las capas de \n",
        "    # salida de slots e de intención\n",
        "    self.lstm = nn.LSTM(self.embedding_size + self.hidden_size*2, self.hidden_size, self.n_layers, batch_first=True)\n",
        "    self.attn = nn.Linear(self.hidden_size, self.hidden_size) # Attention\n",
        "    self.slot_out = nn.Linear(self.hidden_size*2, self.slot_size)\n",
        "    self.intent_out = nn.Linear(self.hidden_size*2,self.intent_size)\n",
        "  \n",
        "  # Función para inicializar los pesos de la capa de embedding\n",
        "  def init_weights(self):\n",
        "    self.embedding.weight.data.uniform_(-0.1, 0.1)\n",
        "    # self.out.bias.data.fill_(0)\n",
        "    # self.out.weight.data.uniform_(-0.1, 0.1)\n",
        "    # self.lstm.weight.data.\n",
        "  \n",
        "  # Función para calcular la salida de la capa de Atención\n",
        "  def Attention(self, hidden, encoder_outputs, encoder_maskings):\n",
        "    \"\"\"\n",
        "    hidden : Vector de estado oculto\n",
        "    encoder_outputs : Vector de salida del encoder\n",
        "    encoder_maskings : Vector de salida del encoder enmascarado\n",
        "    \"\"\"\n",
        "    hidden = hidden.squeeze(0).unsqueeze(2)\n",
        "        \n",
        "    batch_size = encoder_outputs.size(0)\n",
        "    max_len = encoder_outputs.size(1)\n",
        "    energies = self.attn(encoder_outputs.contiguous().view(batch_size*max_len,-1))\n",
        "    energies = energies.view(batch_size,max_len,-1)\n",
        "    attn_energies = energies.bmm(hidden).transpose(1,2)\n",
        "    attn_energies = attn_energies.squeeze(1).masked_fill(encoder_maskings,-1e12)\n",
        "    \n",
        "    alpha = F.softmax(attn_energies)\n",
        "    alpha = alpha.unsqueeze(1)\n",
        "    context = alpha.bmm(encoder_outputs)\n",
        "        \n",
        "    return context\n",
        "  \n",
        "  # Función para inicializar con zeros los vectores de estado oculto y de contexto\n",
        "  def init_hidden(self,input):\n",
        "    hidden = Variable(torch.zeros(self.n_layers*1, input.size(0), self.hidden_size)).cuda() if USE_CUDA else Variable(torch.zeros(self.n_layers*2,input.size(0), self.hidden_size))\n",
        "    context = Variable(torch.zeros(self.n_layers*1, input.size(0), self.hidden_size)).cuda() if USE_CUDA else Variable(torch.zeros(self.n_layers*2, input.size(0), self.hidden_size))\n",
        "    return (hidden,context)\n",
        "  \n",
        "  # Función para realizar el cómputo hacia adelante en el decodificador\n",
        "  def forward(self, input, context, encoder_outputs, encoder_maskings, training=True):\n",
        "    \"\"\"\n",
        "    input : Secuencia de entrada para el decoder\n",
        "    enc_context : Vector de contexto transmitido desde el encoder\n",
        "    \"\"\"\n",
        "    # Cálculo de los vectores de embedding para las entradas del decoder\n",
        "    embedded = self.embedding(input)\n",
        "    hidden = self.init_hidden(input)\n",
        "    decode=[]\n",
        "    aligns = encoder_outputs.transpose(0,1)\n",
        "    length = encoder_outputs.size(1)\n",
        "    for i in range(length):\n",
        "      aligned = aligns[i].unsqueeze(1)\n",
        "      _, hidden = self.lstm(torch.cat((embedded,context,aligned),2), hidden)\n",
        "            \n",
        "      # Detección de la intención\n",
        "      if i==0:\n",
        "        intent_hidden = hidden[0].clone()\n",
        "        intent_context = self.Attention(intent_hidden, encoder_outputs,encoder_maskings)\n",
        "        concated = torch.cat((intent_hidden,intent_context.transpose(0,1)),2)\n",
        "        intent_score = self.intent_out(concated.squeeze(0))\n",
        "\n",
        "      concated = torch.cat((hidden[0],context.transpose(0,1)),2)\n",
        "      score = self.slot_out(concated.squeeze(0))\n",
        "      softmaxed = F.log_softmax(score)\n",
        "      decode.append(softmaxed)\n",
        "      _,input = torch.max(softmaxed,1)\n",
        "      embedded = self.embedding(input.unsqueeze(1))\n",
        "      \n",
        "      context = self.Attention(hidden[0], encoder_outputs,encoder_maskings) \n",
        " \n",
        "    slot_scores = torch.cat(decode,1)\n",
        "    return slot_scores.view(input.size(0)*length,-1), intent_score"
      ],
      "execution_count": 18,
      "outputs": []
    },
    {
      "cell_type": "markdown",
      "metadata": {
        "id": "nQuaG78rV0N8"
      },
      "source": [
        "## 4. Entrenamiento"
      ]
    },
    {
      "cell_type": "code",
      "metadata": {
        "collapsed": true,
        "id": "WQ6y_5IZV0N8"
      },
      "source": [
        "# Parámetros del entrenamiento\n",
        "LEARNING_RATE=0.001\n",
        "EMBEDDING_SIZE=64\n",
        "HIDDEN_SIZE=64\n",
        "BATCH_SIZE=16\n",
        "LENGTH=50\n",
        "STEP_SIZE=10"
      ],
      "execution_count": 19,
      "outputs": []
    },
    {
      "cell_type": "code",
      "metadata": {
        "id": "VK7ygs1aV0N8"
      },
      "source": [
        "# Se instancian las clases del codificador y decodificador\n",
        "encoder = Encoder(len(word2index), EMBEDDING_SIZE, HIDDEN_SIZE)\n",
        "decoder = Decoder(len(tag2index), len(intent2index), len(tag2index) // 3, HIDDEN_SIZE * 2)\n",
        "if USE_CUDA:\n",
        "  encoder = encoder.cuda()\n",
        "  decoder = decoder.cuda()\n",
        "\n",
        "# Se inicializan los pesos del codificador y decodificador\n",
        "encoder.init_weights()\n",
        "decoder.init_weights()\n",
        "\n",
        "# Se definen las funciones de pérdidas y los optimizadores\n",
        "loss_function_1 = nn.CrossEntropyLoss(ignore_index=0)\n",
        "loss_function_2 = nn.CrossEntropyLoss()\n",
        "enc_optim = optim.Adam(encoder.parameters(), lr=LEARNING_RATE)\n",
        "dec_optim = optim.Adam(decoder.parameters(), lr=LEARNING_RATE)"
      ],
      "execution_count": 20,
      "outputs": []
    },
    {
      "cell_type": "code",
      "metadata": {
        "id": "U_XVnGg0V0N8",
        "colab": {
          "base_uri": "https://localhost:8080/"
        },
        "outputId": "6388d1d8-b4c9-4bb8-b218-5bfb4793e2a5"
      },
      "source": [
        "losses_ = []\n",
        "for step in range(STEP_SIZE):\n",
        "  losses = []\n",
        "  # Se obtienen los batch aleatorios\n",
        "  for i, batch in enumerate(getBatch(BATCH_SIZE, train_data)):\n",
        "    # Se obtienen los tensores de las secuencias de entrada, salida, máscaras de\n",
        "    # padding (de secuencias de entrada y salida) y las intenciones para los \n",
        "    # ejemplos en el batch\n",
        "    x, y_1, y_2 = zip(*batch)\n",
        "    x = torch.cat(x)\n",
        "    tag_target = torch.cat(y_1)\n",
        "    intent_target = torch.cat(y_2)\n",
        "    x_mask = torch.cat([Variable(torch.ByteTensor(tuple(map(lambda s: s == 0, t.data)))).cuda() if USE_CUDA else Variable(torch.ByteTensor(tuple(map(lambda s: s == 0, t.data)))) for t in x]).view(BATCH_SIZE, -1)\n",
        "    y_1_mask = torch.cat([Variable(torch.ByteTensor(tuple(map(lambda s: s == 0, t.data)))).cuda() if USE_CUDA else Variable(torch.ByteTensor(tuple(map(lambda s: s == 0, t.data)))) for t in tag_target]).view(BATCH_SIZE, -1)\n",
        "    # Se inicializa las gradientes del codificador y decodificador\n",
        "    encoder.zero_grad()\n",
        "    decoder.zero_grad()\n",
        "    # Se obtienen las salidas del encoder y el tensor de inicio de decodificación\n",
        "    output, hidden_c = encoder(x, x_mask)\n",
        "    start_decode = Variable(torch.LongTensor([[word2index['<SOS>']]*BATCH_SIZE])).cuda().transpose(1,0) if USE_CUDA else Variable(torch.LongTensor([[word2index['<SOS>']]*BATCH_SIZE])).transpose(1,0)\n",
        "    # Se obtienen las salidas del decoder (para los slots y las intenciones)\n",
        "    tag_score, intent_score = decoder(start_decode,hidden_c,output,x_mask)\n",
        "    # Se calcula la función de pérdida en base a las salidas de la red y los \n",
        "    # valores reales\n",
        "    loss_1 = loss_function_1(tag_score, tag_target.view(-1))\n",
        "    loss_2 = loss_function_2(intent_score, intent_target)\n",
        "    # Se suman las pérdidas de ambas salidas (slots e intenciones) y se propaga \n",
        "    # hacia atrás\n",
        "    loss = loss_1 + loss_2\n",
        "    losses.append(loss.data.cpu().numpy() if USE_CUDA else loss.data.numpy())\n",
        "    loss.backward()\n",
        "    # Se utiliza gradrient clipping\n",
        "    torch.nn.utils.clip_grad_norm(encoder.parameters(), 5.0)\n",
        "    torch.nn.utils.clip_grad_norm(decoder.parameters(), 5.0)\n",
        "    # Se optimizan los pesos del paso actual\n",
        "    enc_optim.step()\n",
        "    dec_optim.step()\n",
        "\n",
        "    if i % 100 == 0:\n",
        "      print(\"Epoch\", step, \" step\", i, \" : \", np.mean(losses))\n",
        "      losses = []\n",
        "      losses_.append(np.mean(losses))\n",
        "  \n",
        "torch.save(decoder.state_dict(), 'jointnlu-decoder.pkl')\n",
        "torch.save(encoder.state_dict(), 'jointnlu-encoder.pkl')\n",
        "print(\"Entrenamiento completado!\")"
      ],
      "execution_count": 22,
      "outputs": [
        {
          "output_type": "stream",
          "name": "stderr",
          "text": [
            "/usr/local/lib/python3.7/dist-packages/ipykernel_launcher.py:48: UserWarning: masked_fill_ received a mask with dtype torch.uint8, this behavior is now deprecated,please use a mask with dtype torch.bool instead. (Triggered internally at  /pytorch/aten/src/ATen/native/cuda/Indexing.cu:937.)\n",
            "/usr/local/lib/python3.7/dist-packages/ipykernel_launcher.py:50: UserWarning: Implicit dimension choice for softmax has been deprecated. Change the call to include dim=X as an argument.\n",
            "/usr/local/lib/python3.7/dist-packages/ipykernel_launcher.py:87: UserWarning: Implicit dimension choice for log_softmax has been deprecated. Change the call to include dim=X as an argument.\n",
            "/usr/local/lib/python3.7/dist-packages/ipykernel_launcher.py:33: UserWarning: torch.nn.utils.clip_grad_norm is now deprecated in favor of torch.nn.utils.clip_grad_norm_.\n",
            "/usr/local/lib/python3.7/dist-packages/ipykernel_launcher.py:34: UserWarning: torch.nn.utils.clip_grad_norm is now deprecated in favor of torch.nn.utils.clip_grad_norm_.\n",
            "/usr/local/lib/python3.7/dist-packages/numpy/core/fromnumeric.py:3373: RuntimeWarning: Mean of empty slice.\n",
            "  out=out, **kwargs)\n",
            "/usr/local/lib/python3.7/dist-packages/numpy/core/_methods.py:170: RuntimeWarning: invalid value encountered in double_scalars\n",
            "  ret = ret.dtype.type(ret / rcount)\n"
          ]
        },
        {
          "output_type": "stream",
          "name": "stdout",
          "text": [
            "Epoch 0  step 0  :  0.8492794\n",
            "Epoch 0  step 100  :  0.47006452\n",
            "Epoch 0  step 200  :  0.44225731\n",
            "Epoch 1  step 0  :  0.1020063\n",
            "Epoch 1  step 100  :  0.3645543\n",
            "Epoch 1  step 200  :  0.33802676\n",
            "Epoch 2  step 0  :  0.34749222\n",
            "Epoch 2  step 100  :  0.27888924\n",
            "Epoch 2  step 200  :  0.275159\n",
            "Epoch 3  step 0  :  0.47625613\n",
            "Epoch 3  step 100  :  0.22374716\n",
            "Epoch 3  step 200  :  0.21902815\n",
            "Epoch 4  step 0  :  0.13846345\n",
            "Epoch 4  step 100  :  0.15789609\n",
            "Epoch 4  step 200  :  0.1933614\n",
            "Epoch 5  step 0  :  0.14746055\n",
            "Epoch 5  step 100  :  0.1555148\n",
            "Epoch 5  step 200  :  0.15027733\n",
            "Epoch 6  step 0  :  0.091069095\n",
            "Epoch 6  step 100  :  0.123159066\n",
            "Epoch 6  step 200  :  0.13848442\n",
            "Epoch 7  step 0  :  0.068705134\n",
            "Epoch 7  step 100  :  0.10470572\n",
            "Epoch 7  step 200  :  0.095356986\n",
            "Epoch 8  step 0  :  0.08365496\n",
            "Epoch 8  step 100  :  0.07597519\n",
            "Epoch 8  step 200  :  0.07550433\n",
            "Epoch 9  step 0  :  0.12109422\n",
            "Epoch 9  step 100  :  0.069173105\n",
            "Epoch 9  step 200  :  0.06641758\n",
            "Entrenamiento completado!\n"
          ]
        }
      ]
    },
    {
      "cell_type": "code",
      "metadata": {
        "id": "h6DpltobfBnT"
      },
      "source": [
        "# Función para plotear la pérdida\n",
        "def plot_losses(loss):\n",
        "  plt.plot(loss, label='Training loss cada 100 pasos')\n",
        "  plt.legend()\n",
        "  plt.show()"
      ],
      "execution_count": 23,
      "outputs": []
    },
    {
      "cell_type": "code",
      "metadata": {
        "colab": {
          "base_uri": "https://localhost:8080/",
          "height": 265
        },
        "id": "RUcAnz4bfHJq",
        "outputId": "fcea9c3e-f6bb-45ac-89c1-769475868ac1"
      },
      "source": [
        "# Ploteo de la pérdida\n",
        "plot_losses(losess_)"
      ],
      "execution_count": 30,
      "outputs": [
        {
          "output_type": "display_data",
          "data": {
            "image/png": "[encoded data removed]",
            "text/plain": [
              "<Figure size 432x288 with 1 Axes>"
            ]
          },
          "metadata": {
            "needs_background": "light"
          }
        }
      ]
    },
    {
      "cell_type": "markdown",
      "metadata": {
        "id": "cfcUSyFbV0N9"
      },
      "source": [
        "## 5. Prueba"
      ]
    },
    {
      "cell_type": "markdown",
      "metadata": {
        "id": "ea6JV54SBJIn"
      },
      "source": [
        "Ejecute las tres siguientes celdas si realizará la prueba de forma independiente al entrenamiento"
      ]
    },
    {
      "cell_type": "code",
      "metadata": {
        "collapsed": true,
        "id": "Yplv745CV0N9"
      },
      "source": [
        "# Si se ejecuta de manera independiente al entrenamiento se debe importar algunos módulos\n",
        "from data import *\n",
        "from model import Encoder, Decoder"
      ],
      "execution_count": null,
      "outputs": []
    },
    {
      "cell_type": "code",
      "metadata": {
        "id": "u-VgAh-_V0N9",
        "colab": {
          "base_uri": "https://localhost:8080/"
        },
        "outputId": "435fee94-6a62-49ac-d38e-1e4ac4a9ca73"
      },
      "source": [
        "# Función para realizar la carga de los datos y el preprocesamiento descrito anteriormente\n",
        "_, word2index, tag2index, intent2index = preprocessing(\"atis-2.train.w-intent.iob\", 60)"
      ],
      "execution_count": null,
      "outputs": [
        {
          "output_type": "stream",
          "name": "stdout",
          "text": [
            "processed_data_path : /content/data/\n",
            "Successfully load data. # of set : 4478 \n",
            "# of vocab : 867, # of slot_tag : 120, # of intent_tag : 21\n",
            "Preprocessing complete!\n"
          ]
        }
      ]
    },
    {
      "cell_type": "code",
      "metadata": {
        "collapsed": true,
        "id": "RcUdX18iV0N9"
      },
      "source": [
        "# Se invierten algunos diccionarios\n",
        "index2tag = {v:k for k, v in tag2index.items()}\n",
        "index2intent = {v:k for k, v in intent2index.items()}"
      ],
      "execution_count": null,
      "outputs": []
    },
    {
      "cell_type": "markdown",
      "metadata": {
        "id": "h-BSH6itBstG"
      },
      "source": [
        "Ejecute desde acá si lo está trabajando en el mismo notebook o entorno que el entrenamiento"
      ]
    },
    {
      "cell_type": "code",
      "metadata": {
        "id": "BWGhDfKWV0N9"
      },
      "source": [
        "# Se instancian las clases del codificador y decodificador\n",
        "encoder = Encoder(len(word2index), 64, 64)\n",
        "decoder = Decoder(len(tag2index), len(intent2index), len(tag2index) // 3, 64 * 2)\n",
        "\n",
        "# Se cargan los pesos obtenidos en el entrenamiento\n",
        "# Asegurarse de que los pesos se encuentren en la misma ruta para su lectura adecuada\n",
        "encoder.load_state_dict(torch.load('jointnlu-encoder.pkl'))\n",
        "decoder.load_state_dict(torch.load('jointnlu-decoder.pkl'))\n",
        "if USE_CUDA:\n",
        "  encoder = encoder.cuda()\n",
        "  decoder = decoder.cuda()"
      ],
      "execution_count": 25,
      "outputs": []
    },
    {
      "cell_type": "code",
      "metadata": {
        "id": "fDEAtCTn2NVz",
        "outputId": "babbb7c6-3f28-4fbf-f3c3-bbad53b9b1a4",
        "colab": {
          "base_uri": "https://localhost:8080/"
        }
      },
      "source": [
        "# Obtenemos únicamente el archivo que se utilizará\n",
        "!curl --remote-name -H --location https://raw.githubusercontent.com/yvchen/JointSLU/master/data/atis-2.dev.w-intent.iob"
      ],
      "execution_count": 26,
      "outputs": [
        {
          "output_type": "stream",
          "name": "stdout",
          "text": [
            "  % Total    % Received % Xferd  Average Speed   Time    Time     Time  Current\n",
            "                                 Dload  Upload   Total   Spent    Left  Speed\n",
            "\r  0     0    0     0    0     0      0      0 --:--:-- --:--:-- --:--:--     0\r100 92042  100 92042    0     0   665k      0 --:--:-- --:--:-- --:--:--  665k\n"
          ]
        }
      ]
    },
    {
      "cell_type": "code",
      "metadata": {
        "id": "ppKBXPQhV0N-"
      },
      "source": [
        "# Se lee la información del archivo con el corpus de ATIS\n",
        "test = open('atis-2.dev.w-intent.iob', 'r').readlines()\n",
        "test = [t[:-1] for t in test]\n",
        "test = [[t.split('\\t')[0].split(' '), t.split('\\t')[1].split(' ')[:-1], t.split('\\t')[1].split(' ')[-1]] for t in test]\n",
        "test = [[t[0][1:-1],t[1][1:],t[2]] for t in test]"
      ],
      "execution_count": 27,
      "outputs": []
    },
    {
      "cell_type": "code",
      "metadata": {
        "id": "qa0ADCUMV0N-",
        "colab": {
          "base_uri": "https://localhost:8080/"
        },
        "outputId": "df1cd63d-c4bf-404c-e676-07d65cb10f90"
      },
      "source": [
        "# Se obtienen los tensores de las secuencias de entrada, salida, máscaras de\n",
        "# padding (de secuencias de entrada y salida) y las intenciones para los datos \n",
        "# de prueba\n",
        "index = random.choice(range(len(test)))\n",
        "test_raw = test[index][0]\n",
        "test_in = prepare_sequence(test_raw, word2index)\n",
        "test_mask = Variable(torch.ByteTensor(tuple(map(lambda s: s == 0, test_in.data)))).cuda() if USE_CUDA else Variable(torch.ByteTensor(tuple(map(lambda s: s == 0, test_in.data)))).view(1, -1)\n",
        "start_decode = Variable(torch.LongTensor([[word2index['<SOS>']]*1])).cuda().transpose(1,0) if USE_CUDA else Variable(torch.LongTensor([[word2index['<SOS>']]*1])).transpose(1,0)\n",
        "\n",
        "# Se obtienen las salidas del encoder y con ello las salidas del decoder\n",
        "output, hidden_c = encoder(test_in.unsqueeze(0),test_mask.unsqueeze(0))\n",
        "tag_score, intent_score = decoder(start_decode, hidden_c, output, test_mask)\n",
        "\n",
        "# Se hace un print de las secuencias probadas y sus predicciones\n",
        "v, i = torch.max(tag_score, 1)\n",
        "print(\"Input Sentence : \", *test[index][0])\n",
        "print(\"Truth        : \", *test[index][1])\n",
        "print(\"Prediction : \", *list(map(lambda ii:index2tag[ii], i.data.tolist())))\n",
        "v, i = torch.max(intent_score, 1)\n",
        "print(\"Truth        : \", test[index][2])\n",
        "print(\"Prediction : \", index2intent[i.data.tolist()[0]])"
      ],
      "execution_count": 28,
      "outputs": [
        {
          "output_type": "stream",
          "name": "stdout",
          "text": [
            "Input Sentence :  what are the early morning flights from boston to denver\n",
            "Truth        :  O O O B-depart_time.period_of_day B-depart_time.period_of_day O O B-fromloc.city_name O B-toloc.city_name\n",
            "Prediction :  O O O B-depart_time.period_of_day B-depart_time.period_of_day O O B-fromloc.city_name O B-toloc.city_name\n",
            "Truth        :  atis_flight\n",
            "Prediction :  atis_flight\n"
          ]
        },
        {
          "output_type": "stream",
          "name": "stderr",
          "text": [
            "/usr/local/lib/python3.7/dist-packages/ipykernel_launcher.py:48: UserWarning: masked_fill_ received a mask with dtype torch.uint8, this behavior is now deprecated,please use a mask with dtype torch.bool instead. (Triggered internally at  /pytorch/aten/src/ATen/native/cuda/Indexing.cu:937.)\n",
            "/usr/local/lib/python3.7/dist-packages/ipykernel_launcher.py:50: UserWarning: Implicit dimension choice for softmax has been deprecated. Change the call to include dim=X as an argument.\n",
            "/usr/local/lib/python3.7/dist-packages/ipykernel_launcher.py:87: UserWarning: Implicit dimension choice for log_softmax has been deprecated. Change the call to include dim=X as an argument.\n"
          ]
        }
      ]
    }
  ]
}